{
 "cells": [
  {
   "attachments": {},
   "cell_type": "markdown",
   "metadata": {},
   "source": [
    "## <center>Практическое задание к лекции 4."
   ]
  },
  {
   "attachments": {},
   "cell_type": "markdown",
   "metadata": {},
   "source": [
    "**1. Случайная непрерывная величина A имеет равномерное распределение на промежутке $(200, 800]$. Найдите ее среднее значение и дисперсию.**"
   ]
  },
  {
   "cell_type": "code",
   "execution_count": 258,
   "metadata": {},
   "outputs": [],
   "source": [
    "mu=(800+200)/2\n",
    "d=(800-200)**2/12"
   ]
  },
  {
   "cell_type": "code",
   "execution_count": 259,
   "metadata": {},
   "outputs": [
    {
     "name": "stdout",
     "output_type": "stream",
     "text": [
      "Среднее значение: М(А) =: 500.00;\n",
      "Дисперсия: D(A): 30000.00\n"
     ]
    }
   ],
   "source": [
    "print(f'Среднее значение: М(А) =: {mu:.2f};\\n'\n",
    "      f'Дисперсия: D(A): {d:.2f}')"
   ]
  },
  {
   "attachments": {},
   "cell_type": "markdown",
   "metadata": {},
   "source": [
    "---  \n",
    "#### Ответ:  \n",
    "$M(A)=500.00\\\\D(A)=30000.00$  \n",
    "\n",
    "---"
   ]
  },
  {
   "attachments": {},
   "cell_type": "markdown",
   "metadata": {},
   "source": [
    "**2. О случайной непрерывной равномерно распределенной величине B известно, что ее дисперсия равна 0.2. Можно ли найти правую границу величины B и ее среднее значение зная, что левая граница равна 0.5? Если да, найдите ее.**"
   ]
  },
  {
   "cell_type": "code",
   "execution_count": 260,
   "metadata": {},
   "outputs": [],
   "source": [
    "b=0.5+(12*0.2)**(1/2)\n",
    "M=(b+0.5)/2"
   ]
  },
  {
   "cell_type": "code",
   "execution_count": 261,
   "metadata": {},
   "outputs": [
    {
     "name": "stdout",
     "output_type": "stream",
     "text": [
      "Левая граница распределения величины В - b =  2.049\n",
      "Среднее значение В на промежутке (0.5;  2.049) M(B) =  1.275\n"
     ]
    }
   ],
   "source": [
    "print(f'Левая граница распределения величины В - b = {b: .3f}\\n'\n",
    "      f'Среднее значение В на промежутке (0.5; {b: .3f}) M(B) = {M: .3f}')"
   ]
  },
  {
   "attachments": {},
   "cell_type": "markdown",
   "metadata": {},
   "source": [
    "---\n",
    "#### Ответ:  \n",
    "Левая граница распределения: $b=2.049$  \n",
    "Среднее значение: $M(B)=1.275$  \n",
    "\n",
    "---"
   ]
  },
  {
   "attachments": {},
   "cell_type": "markdown",
   "metadata": {},
   "source": [
    "**3. Непрерывная случайная величина X распределена нормально и задана плотностью распределения $\\displaystyle f(x)=\\frac{1}{4\\cdot\\sqrt{2\\pi}}\\cdot e^{-\\frac{(x+2)^2}{32}}$, Найдите:**  \n",
    "   **а) $M(X)$**  \n",
    "   **б) $D(X)$**  \n",
    "   **в) $\\displaystyle\\sigma$ (среднее квадратичное отклонение)**"
   ]
  },
  {
   "cell_type": "code",
   "execution_count": 262,
   "metadata": {},
   "outputs": [
    {
     "name": "stdout",
     "output_type": "stream",
     "text": [
      "M(x) = a = -2 \n",
      "std(x) =  4 \n",
      "D(x) =  16\n"
     ]
    }
   ],
   "source": [
    "a=-2\n",
    "std=4\n",
    "print(f'M(x) = a = {a: .0f} \\n'\n",
    "      f'std(x) = {std: .0f} \\n'\n",
    "      f'D(x) = {std**2: .0f}'\n",
    "     )"
   ]
  },
  {
   "attachments": {},
   "cell_type": "markdown",
   "metadata": {},
   "source": [
    "---  \n",
    "#### Ответ:  \n",
    "$M(X)=-2\\\\D(X)=16\\\\\\displaystyle\\sigma=4$  \n",
    "\n",
    "---"
   ]
  },
  {
   "attachments": {},
   "cell_type": "markdown",
   "metadata": {},
   "source": [
    "**4. Рост взрослого населения города X имеет нормальное распределение. Причем, средний рост равен 174 см, а среднее квадратичное отклонение равно 8 см. Какова вероятность того, что случайным образом выбранный взрослый человек имеет рост:**  \n",
    "   **а) больше 182 см**  \n",
    "   **б) больше 190 см**  \n",
    "   **в) от 166 см до 190 см**  \n",
    "   **г) от 166 см до 182 см**  \n",
    "   **д) от 158 см до 190 см**  \n",
    "   **е) не выше 150 см или не ниже 190 см**  \n",
    "   **ё) не выше 150 см или не ниже 198 см**  \n",
    "   **ж) ниже 166 см.** "
   ]
  },
  {
   "cell_type": "code",
   "execution_count": 263,
   "metadata": {},
   "outputs": [],
   "source": [
    "from scipy.stats import norm"
   ]
  },
  {
   "cell_type": "code",
   "execution_count": 264,
   "metadata": {},
   "outputs": [],
   "source": [
    "mu=174\n",
    "sigma=8"
   ]
  },
  {
   "attachments": {},
   "cell_type": "markdown",
   "metadata": {},
   "source": [
    "**а) больше 182 см**"
   ]
  },
  {
   "cell_type": "code",
   "execution_count": 265,
   "metadata": {},
   "outputs": [
    {
     "name": "stdout",
     "output_type": "stream",
     "text": [
      "P(X>=182)= 0.1587 \n"
     ]
    }
   ],
   "source": [
    "pa=1-norm.cdf(182, mu, sigma)\n",
    "print (f'P(X>=182)={pa: .4f} ')"
   ]
  },
  {
   "attachments": {},
   "cell_type": "markdown",
   "metadata": {},
   "source": [
    "**б) больше 190 см** "
   ]
  },
  {
   "cell_type": "code",
   "execution_count": 266,
   "metadata": {},
   "outputs": [
    {
     "name": "stdout",
     "output_type": "stream",
     "text": [
      "P(X>=190)= 0.0228 \n"
     ]
    }
   ],
   "source": [
    "pb=1-norm.cdf(190, mu, sigma)\n",
    "print (f'P(X>=190)={pb: .4f} ')"
   ]
  },
  {
   "attachments": {},
   "cell_type": "markdown",
   "metadata": {},
   "source": [
    "**в) от 166 см до 190 см**"
   ]
  },
  {
   "cell_type": "code",
   "execution_count": 267,
   "metadata": {},
   "outputs": [
    {
     "name": "stdout",
     "output_type": "stream",
     "text": [
      "P(166<=X<=190)= 0.8186 \n"
     ]
    }
   ],
   "source": [
    "pv=norm.cdf(190, mu, sigma)-norm.cdf(166, mu, sigma)\n",
    "print (f'P(166<=X<=190)={pv: .4f} ')"
   ]
  },
  {
   "attachments": {},
   "cell_type": "markdown",
   "metadata": {},
   "source": [
    "**г) от 166 см до 182 см** "
   ]
  },
  {
   "cell_type": "code",
   "execution_count": 268,
   "metadata": {},
   "outputs": [
    {
     "name": "stdout",
     "output_type": "stream",
     "text": [
      "P(166<=X<=182)= 0.6827 \n"
     ]
    }
   ],
   "source": [
    "pg=norm.cdf(182, mu, sigma)-norm.cdf(166, mu, sigma)\n",
    "print (f'P(166<=X<=182)={pg: .4f} ')"
   ]
  },
  {
   "attachments": {},
   "cell_type": "markdown",
   "metadata": {},
   "source": [
    "**д) от 158 см до 190 см** "
   ]
  },
  {
   "cell_type": "code",
   "execution_count": 269,
   "metadata": {},
   "outputs": [
    {
     "name": "stdout",
     "output_type": "stream",
     "text": [
      "P(158<=X<=190)= 0.6827 \n"
     ]
    }
   ],
   "source": [
    "pd=norm.cdf(190, mu, sigma)-norm.cdf(158, mu, sigma)\n",
    "print (f'P(158<=X<=190)={pg: .4f} ')"
   ]
  },
  {
   "attachments": {},
   "cell_type": "markdown",
   "metadata": {},
   "source": [
    "**е) не выше 150 см или не ниже 190 см** "
   ]
  },
  {
   "cell_type": "code",
   "execution_count": 270,
   "metadata": {},
   "outputs": [
    {
     "name": "stdout",
     "output_type": "stream",
     "text": [
      "P(150<=X U X>=190)= 0.0241 \n"
     ]
    }
   ],
   "source": [
    "pe=norm.cdf(150, mu, sigma)+1-norm.cdf(190, mu, sigma)\n",
    "print (f'P(150<=X U X>=190)={pe: .4f} ')"
   ]
  },
  {
   "attachments": {},
   "cell_type": "markdown",
   "metadata": {},
   "source": [
    "**ё) не выше 150 см или не ниже 198 см**"
   ]
  },
  {
   "cell_type": "code",
   "execution_count": 271,
   "metadata": {},
   "outputs": [
    {
     "name": "stdout",
     "output_type": "stream",
     "text": [
      "P(150<=X U X>=198)= 0.0027 \n"
     ]
    }
   ],
   "source": [
    "pe1=norm.cdf(150, mu, sigma)+1-norm.cdf(198, mu, sigma)\n",
    "print (f'P(150<=X U X>=198)={pe1: .4f} ')"
   ]
  },
  {
   "attachments": {},
   "cell_type": "markdown",
   "metadata": {},
   "source": [
    "**ж) ниже 166 см.** "
   ]
  },
  {
   "cell_type": "code",
   "execution_count": 272,
   "metadata": {},
   "outputs": [
    {
     "name": "stdout",
     "output_type": "stream",
     "text": [
      "P(X<=166)= 0.1587 \n"
     ]
    }
   ],
   "source": [
    "pz=norm.cdf(166, mu, sigma)\n",
    "print (f'P(X<=166)={pz: .4f} ')"
   ]
  },
  {
   "attachments": {},
   "cell_type": "markdown",
   "metadata": {},
   "source": [
    "\n",
    "---"
   ]
  },
  {
   "attachments": {},
   "cell_type": "markdown",
   "metadata": {},
   "source": [
    "**5. На сколько сигм (средних квадратичных отклонений) отклоняется рост человека, равный 190 см, от математического ожидания роста в популяции, в которой M(X) = 178 см и D(X) = 25 кв.см?**"
   ]
  },
  {
   "cell_type": "code",
   "execution_count": 273,
   "metadata": {},
   "outputs": [],
   "source": [
    "import math"
   ]
  },
  {
   "cell_type": "code",
   "execution_count": 274,
   "metadata": {},
   "outputs": [
    {
     "name": "stdout",
     "output_type": "stream",
     "text": [
      "Рост человека, равный 190 см, отклоняется от математического ожидания роста в популяции, \n",
      "на 2.4 сигм.\n"
     ]
    }
   ],
   "source": [
    "std=math.sqrt(25)\n",
    "sigma=(190-178)/std\n",
    "print(f'Рост человека, равный 190 см, отклоняется от математического ожидания роста в популяции, \\n'\n",
    "      f'на {sigma} сигм.')"
   ]
  },
  {
   "attachments": {},
   "cell_type": "markdown",
   "metadata": {},
   "source": [
    "---  \n",
    "#### Ответ:  \n",
    "на $2.4$ сигмы  \n",
    "\n",
    "---"
   ]
  }
 ],
 "metadata": {
  "kernelspec": {
   "display_name": "Python 3",
   "language": "python",
   "name": "python3"
  },
  "language_info": {
   "codemirror_mode": {
    "name": "ipython",
    "version": 3
   },
   "file_extension": ".py",
   "mimetype": "text/x-python",
   "name": "python",
   "nbconvert_exporter": "python",
   "pygments_lexer": "ipython3",
   "version": "3.10.7 (tags/v3.10.7:6cc6b13, Sep  5 2022, 14:08:36) [MSC v.1933 64 bit (AMD64)]"
  },
  "orig_nbformat": 4,
  "vscode": {
   "interpreter": {
    "hash": "feabd682d07e1de51ad16ab4c1d1a4968bc1b5ada19ac01ce8b5d3e05f7cf136"
   }
  }
 },
 "nbformat": 4,
 "nbformat_minor": 2
}
