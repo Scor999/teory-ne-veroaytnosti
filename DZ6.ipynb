{
 "cells": [
  {
   "attachments": {},
   "cell_type": "markdown",
   "metadata": {},
   "source": [
    "## <center>Практическое задание к лекции 6."
   ]
  },
  {
   "attachments": {},
   "cell_type": "markdown",
   "metadata": {},
   "source": [
    "**1.Известно, что генеральная совокупность распределена нормально со средним квадратическим отклонением, равным 16. Найти доверительный интервал для оценки математического ожидания a с надежностью 0.95, если выборочная средняя M = 80, а объем выборки n = 256.**"
   ]
  },
  {
   "attachments": {},
   "cell_type": "markdown",
   "metadata": {},
   "source": [
    "Поскольку нам известно среднее квадратическое отклонение генеральной совокупности $\\sigma=16$ , то для расчета $95\\%$-го доверительного интервала, будем использовать $Z$-критерий."
   ]
  },
  {
   "attachments": {},
   "cell_type": "markdown",
   "metadata": {},
   "source": [
    "Находим значение $Z$ для интервала $0.95$"
   ]
  },
  {
   "cell_type": "code",
   "execution_count": 2,
   "metadata": {},
   "outputs": [],
   "source": [
    "import numpy as np\n",
    "import math\n",
    "from scipy.stats import norm\n",
    "from scipy.stats import t"
   ]
  },
  {
   "cell_type": "code",
   "execution_count": 6,
   "metadata": {},
   "outputs": [
    {
     "name": "stdout",
     "output_type": "stream",
     "text": [
      "значение Z для интревала 0,95 составляет  1.96\n"
     ]
    }
   ],
   "source": [
    "z=norm.ppf((1+0.95)/2)\n",
    "print (f'значение Z для интревала 0,95 составляет {z: .2f}')"
   ]
  },
  {
   "attachments": {},
   "cell_type": "markdown",
   "metadata": {},
   "source": [
    "Далее находим интервал"
   ]
  },
  {
   "cell_type": "code",
   "execution_count": 11,
   "metadata": {},
   "outputs": [
    {
     "name": "stdout",
     "output_type": "stream",
     "text": [
      "Доверительный интервал для оценки мат. ожидания генеральной совокупности: [ 78.04; 81.96].\n"
     ]
    }
   ],
   "source": [
    "d=z*16/math.sqrt(256)\n",
    "left=80-d\n",
    "right=80+d\n",
    "print(f'Доверительный интервал для оценки мат. ожидания генеральной совокупности: [{left: .2f};{right: .2f}].')"
   ]
  },
  {
   "attachments": {},
   "cell_type": "markdown",
   "metadata": {},
   "source": [
    "--- \n",
    "### Ответ:\n",
    "Доверительный интервал для оценки мат. ожидания генеральной совокупности: $\\left[78.04;81.96\\right]$"
   ]
  },
  {
   "attachments": {},
   "cell_type": "markdown",
   "metadata": {},
   "source": [
    "**2.В результате 10 независимых измерений некоторой величины X, выполненных с одинаковой точностью, получены опытные данные: 6.9, 6.1, 6.2, 6.8, 7.5, 6.3, 6.4, 6.9, 6.7, 6.1. Предполагая, что результаты измерений подчинены нормальному закону распределения вероятностей, оценить истинное значение величины X при помощи доверительного интервала, покрывающего это значение с доверительной вероятностью 0,95.**"
   ]
  },
  {
   "cell_type": "code",
   "execution_count": 24,
   "metadata": {},
   "outputs": [
    {
     "name": "stdout",
     "output_type": "stream",
     "text": [
      "95%-й доверительный интервал для истинного значения Х:[ 6.31; 6.87].\n"
     ]
    }
   ],
   "source": [
    "arr=np.array([6.9, 6.1, 6.2, 6.8, 7.5, 6.3, 6.4, 6.9, 6.7, 6.1])\n",
    "n=arr.size\n",
    "std=arr.std(ddof=1)\n",
    "mean=arr.mean()\n",
    "z=norm.ppf((1+0.95)/2)\n",
    "d=z*std/math.sqrt(n)\n",
    "left= mean-d\n",
    "right= mean+d\n",
    "print(f'95%-й доверительный интервал для истинного значения Х:[{left: .2f};{right: .2f}].')\n"
   ]
  },
  {
   "attachments": {},
   "cell_type": "markdown",
   "metadata": {},
   "source": [
    "--- \n",
    "### Ответ:\n",
    "$95\\%$-й доверительный интервал для истинного значения $Х$:$\\left[6.268;6.912\\right]$"
   ]
  },
  {
   "attachments": {},
   "cell_type": "markdown",
   "metadata": {},
   "source": [
    "**3.Рост дочерей 175, 167, 154, 174, 178, 148, 160, 167, 169, 170**             \n",
    "**Рост матерей 178, 165, 165, 173, 168, 155, 160, 164, 178, 175**               \n",
    "**Используя эти данные построить 95% доверительный интервал для разности среднего роста родителей и детей.**"
   ]
  },
  {
   "cell_type": "code",
   "execution_count": 30,
   "metadata": {},
   "outputs": [
    {
     "name": "stdout",
     "output_type": "stream",
     "text": [
      "95% доверительный интервал разности среднего роста родителей и детей:[-5.33; 9.13].\n"
     ]
    }
   ],
   "source": [
    "import numpy\n",
    "daughters = numpy.array([175, 167, 154, 174, 178, 148, 160, 167, 169, 170])\n",
    "mothers = numpy.array([178, 165, 165, 173, 168, 155, 160, 164, 178, 175])\n",
    "\n",
    "mean = numpy.mean(mothers) - numpy.mean(daughters)\n",
    "std = numpy.sqrt((numpy.std(mothers) ** 2 / len(mothers)) + (numpy.std(daughters) ** 2 / len(daughters)))\n",
    "a = 1.96 * std\n",
    "left=mean - a\n",
    "right=mean + a\n",
    "\n",
    "print(f\"95% доверительный интервал разности среднего роста родителей и детей:[{left: .2f};{right: .2f}].\", )"
   ]
  },
  {
   "attachments": {},
   "cell_type": "markdown",
   "metadata": {},
   "source": [
    "--- \n",
    "### Ответ:\n",
    "$95\\%$-й доверительный интервал разности среднего роста родителей и детей:$\\left[-5.33;9.13\\right]$"
   ]
  }
 ],
 "metadata": {
  "kernelspec": {
   "display_name": "Python 3",
   "language": "python",
   "name": "python3"
  },
  "language_info": {
   "codemirror_mode": {
    "name": "ipython",
    "version": 3
   },
   "file_extension": ".py",
   "mimetype": "text/x-python",
   "name": "python",
   "nbconvert_exporter": "python",
   "pygments_lexer": "ipython3",
   "version": "3.10.7"
  },
  "orig_nbformat": 4,
  "vscode": {
   "interpreter": {
    "hash": "feabd682d07e1de51ad16ab4c1d1a4968bc1b5ada19ac01ce8b5d3e05f7cf136"
   }
  }
 },
 "nbformat": 4,
 "nbformat_minor": 2
}
