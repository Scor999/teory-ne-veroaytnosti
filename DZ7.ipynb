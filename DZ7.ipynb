{
 "cells": [
  {
   "attachments": {},
   "cell_type": "markdown",
   "metadata": {},
   "source": [
    "## <center>Практическое задание к лекции 7."
   ]
  },
  {
   "attachments": {},
   "cell_type": "markdown",
   "metadata": {},
   "source": [
    "**1.Даны две независимые выборки. Не соблюдается условие нормальности**     \n",
    "**x1 380,420, 290**                 \n",
    "**y1 140,360,200,900**          \n",
    "**Сделайте вывод по результатам, полученным с помощью функции**"
   ]
  },
  {
   "attachments": {},
   "cell_type": "markdown",
   "metadata": {},
   "source": [
    "**Критерий Манна-Уитни используется для сравнения различий между двумя выборками, когда распределение выборки не является нормальным, а размеры выборки малы $(n < 30)$.**"
   ]
  },
  {
   "cell_type": "code",
   "execution_count": 1,
   "metadata": {},
   "outputs": [
    {
     "data": {
      "text/plain": [
       "MannwhitneyuResult(statistic=8.0, pvalue=0.6285714285714286)"
      ]
     },
     "execution_count": 1,
     "metadata": {},
     "output_type": "execute_result"
    }
   ],
   "source": [
    "import numpy\n",
    "import scipy.stats as stats\n",
    "\n",
    "group1 = numpy.array([380, 420, 290])\n",
    "group2 = numpy.array([140, 360, 200, 900])\n",
    "\n",
    "#perform two sample t-test with equal variances\n",
    "stats. mannwhitneyu (group1, group2, alternative='two-sided')"
   ]
  },
  {
   "attachments": {},
   "cell_type": "markdown",
   "metadata": {},
   "source": [
    "--- \n",
    "### Ответ:\n",
    "$pvalue>\\alpha(0.05)$ статистически значимых различий нет $H_0$ не отвергаем."
   ]
  },
  {
   "attachments": {},
   "cell_type": "markdown",
   "metadata": {},
   "source": [
    "*2.Исследовалось влияние препарата на уровень давления пациентов. Сначала измерялось давление до приема препарата, потом через 10 минут и через 30 минут. Есть ли статистически значимые различия?**         \n",
    "**1е измерение до приема препарата: 150, 160, 165, 145, 155**           \n",
    "**2е измерение через 10 минут: 140, 155, 150, 130, 135**                \n",
    "**3е измерение через 30 минут: 130, 130, 120, 130, 125**            "
   ]
  },
  {
   "attachments": {},
   "cell_type": "markdown",
   "metadata": {},
   "source": [
    "**Тест Фридмана является непараметрической версией анализа повторных измерений дисперсионного теста или повторных измерений ANOVA. Тест можно рассматривать как обобщение критерия Крускала-Уоллиса для более чем двух образцов.**"
   ]
  },
  {
   "cell_type": "code",
   "execution_count": 3,
   "metadata": {},
   "outputs": [
    {
     "data": {
      "text/plain": [
       "FriedmanchisquareResult(statistic=9.578947368421062, pvalue=0.00831683351100441)"
      ]
     },
     "execution_count": 3,
     "metadata": {},
     "output_type": "execute_result"
    }
   ],
   "source": [
    "from scipy import stats\n",
    "data1=numpy.array([150, 160, 165, 145, 155])\n",
    "data2=numpy.array([140, 155, 150, 130, 135])\n",
    "data3=numpy.array([130, 130, 120, 130, 125])\n",
    "alpha=0.05\n",
    "stats.friedmanchisquare(data1, data2, data3)"
   ]
  },
  {
   "attachments": {},
   "cell_type": "markdown",
   "metadata": {},
   "source": [
    "--- \n",
    "### Ответ:\n",
    "Поскольку $pvalue<\\alpha(0.05)$ мы можем отвергнуть нулевую гипотезу, препарат влияет на давление."
   ]
  },
  {
   "attachments": {},
   "cell_type": "markdown",
   "metadata": {},
   "source": [
    "**3.Сравните 1 и 2 е измерения, предполагая, что 3го измерения через 30 минут не было.**"
   ]
  },
  {
   "attachments": {},
   "cell_type": "markdown",
   "metadata": {},
   "source": [
    "**Критерий Уилкоксона со знаком является непараметрической статистической процедурой для сравнения двух выборок, которые являются парными или связанными.**"
   ]
  },
  {
   "cell_type": "code",
   "execution_count": 5,
   "metadata": {},
   "outputs": [
    {
     "data": {
      "text/plain": [
       "WilcoxonResult(statistic=0.0, pvalue=0.0625)"
      ]
     },
     "execution_count": 5,
     "metadata": {},
     "output_type": "execute_result"
    }
   ],
   "source": [
    "data1=numpy.array([150, 160, 165, 145, 155])\n",
    "data2=numpy.array([140, 155, 150, 130, 135])\n",
    "alpha=0.05\n",
    "stats.wilcoxon(data1, data2)"
   ]
  },
  {
   "attachments": {},
   "cell_type": "markdown",
   "metadata": {},
   "source": [
    "--- \n",
    "### Ответ:\n",
    "Поскольку $pvalue>\\alpha(0.05)$ мы не можем отвергнуть нулевую гипотезу, препарат не влияет на давление."
   ]
  },
  {
   "attachments": {},
   "cell_type": "markdown",
   "metadata": {},
   "source": [
    "**4.Даны 3 группы учеников плавания.**\n",
    "**В 1 группе время на дистанцию 50 м составляют:**           \n",
    "**Первая группа : 56, 60, 62, 55, 71, 67, 59, 58, 64, 67**       \n",
    "**Вторая группа : 57, 58, 69, 48, 72, 70, 68, 71, 50, 53**          \n",
    "**Третья группа : 57, 67, 49, 48, 47, 55, 66, 51, 54**"
   ]
  },
  {
   "attachments": {},
   "cell_type": "markdown",
   "metadata": {},
   "source": [
    "**Тест Крускала-Уоллиса является непараметрической версией одностороннего дисперсионного анализа или ANOVA для краткости. Он назван в честь разработчиков метода Уильяма Крускала и Уилсона Уоллиса. Этот тест можно использовать для определения того, имеют ли более двух независимых выборок различное распределение. Его можно рассматривать как обобщение U-критерия Манна-Уитни.**"
   ]
  },
  {
   "cell_type": "code",
   "execution_count": 7,
   "metadata": {},
   "outputs": [
    {
     "data": {
      "text/plain": [
       "KruskalResult(statistic=5.465564058257224, pvalue=0.06503809985904942)"
      ]
     },
     "execution_count": 7,
     "metadata": {},
     "output_type": "execute_result"
    }
   ],
   "source": [
    "from scipy import stats\n",
    "import scipy.stats as kruskal\n",
    "data1=numpy.array([56, 60, 62, 55, 71, 67, 59, 58, 64, 67])\n",
    "data2=numpy.array([57, 58, 69, 48, 72, 70, 68, 71, 50, 53])\n",
    "data3=numpy.array([57, 67, 49, 48, 47, 55, 66, 51, 54])\n",
    "alpha=0.05\n",
    "stats.kruskal(data1, data2, data3)"
   ]
  },
  {
   "attachments": {},
   "cell_type": "markdown",
   "metadata": {},
   "source": [
    "--- \n",
    "### Ответ:\n",
    "$pvalue>\\alpha(0.05)$ статистически значимых различий нет $H_0$ не отвергаем, время на дистанцию одинаковое."
   ]
  },
  {
   "attachments": {},
   "cell_type": "markdown",
   "metadata": {},
   "source": [
    "**5.Заявляется, что партия изготавливается со средним арифметическим 2,5 см. Проверить данную гипотезу, если известно, что размеры изделий подчинены нормальному закону распределения. Объем выборки 10, уровень статистической значимости 5%**       \n",
    "**2.51, 2.35, 2.74, 2.56, 2.40, 2.36, 2.65, 2.7, 2.67, 2.34**"
   ]
  },
  {
   "cell_type": "code",
   "execution_count": 29,
   "metadata": {},
   "outputs": [
    {
     "data": {
      "text/plain": [
       "0.5630613661802959"
      ]
     },
     "execution_count": 29,
     "metadata": {},
     "output_type": "execute_result"
    }
   ],
   "source": [
    "a = numpy.array([2.51, 2.35, 2.74, 2.56, 2.40,2.36, 2.65, 2.7, 2.67, 2.34])\n",
    "mean = a.mean()\n",
    "std = a.std(ddof=1)\n",
    "n = a.size\n",
    "m = 2.5\n",
    "t = (mean-2.5)/(std/numpy.sqrt(n))\n",
    "t"
   ]
  },
  {
   "attachments": {},
   "cell_type": "markdown",
   "metadata": {},
   "source": [
    "**Доверительная вероятность $= 0.05$ , число степеней свободы = $n - 1 = 9$**         \n",
    "**по таблице Стьюдента находим критическое**            \n",
    "$t_1= 0.064$            \n",
    "$t_2= -0.064$"
   ]
  },
  {
   "attachments": {},
   "cell_type": "markdown",
   "metadata": {},
   "source": [
    "--- \n",
    "### Ответ:          \n",
    "**Значение $t$ попадает в критическую область, таким образом, гипотезу $H_1$ не отвергаем, партия изготавливается со средним арифметическим $\\neq 2.5$**\n"
   ]
  }
 ],
 "metadata": {
  "kernelspec": {
   "display_name": "Python 3",
   "language": "python",
   "name": "python3"
  },
  "language_info": {
   "codemirror_mode": {
    "name": "ipython",
    "version": 3
   },
   "file_extension": ".py",
   "mimetype": "text/x-python",
   "name": "python",
   "nbconvert_exporter": "python",
   "pygments_lexer": "ipython3",
   "version": "3.10.7"
  },
  "orig_nbformat": 4,
  "vscode": {
   "interpreter": {
    "hash": "feabd682d07e1de51ad16ab4c1d1a4968bc1b5ada19ac01ce8b5d3e05f7cf136"
   }
  }
 },
 "nbformat": 4,
 "nbformat_minor": 2
}
