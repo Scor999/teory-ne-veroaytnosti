{
 "cells": [
  {
   "attachments": {},
   "cell_type": "markdown",
   "metadata": {},
   "source": [
    "## <center>Практическое задание к лекции 3.\n",
    "\n",
    "**1. Даны значения зарплат из выборки выпускников: 100, 80, 75, 77, 89, 33, 45, 25, 65, 17, 30, 24, 57, 55, 70, 75, 65, 84, 90, 150. Посчитать (желательно без использования статистических методов наподобие std, var, mean):**  \n",
    "   **а) среднее арифметическое,**  \n",
    "   **б) среднее квадратичное отклонение,**  \n",
    "   **с) смещенную и несмещенную оценки дисперсий для данной выборки.**"
   ]
  },
  {
   "cell_type": "code",
   "execution_count": 368,
   "metadata": {},
   "outputs": [
    {
     "data": {
      "text/plain": [
       "array([100,  80,  75,  77,  89,  33,  45,  25,  65,  17,  30,  24,  57,\n",
       "        55,  70,  75,  65,  84,  90, 150])"
      ]
     },
     "execution_count": 368,
     "metadata": {},
     "output_type": "execute_result"
    }
   ],
   "source": [
    "salaries = np.array([100, 80, 75, 77, 89, 33, 45, 25, 65, 17, 30, 24, 57, 55, 70, 75, 65, 84, 90, 150])\n",
    "salaries"
   ]
  },
  {
   "attachments": {},
   "cell_type": "markdown",
   "metadata": {},
   "source": [
    "Cреднее арифметическое"
   ]
  },
  {
   "cell_type": "code",
   "execution_count": 369,
   "metadata": {},
   "outputs": [],
   "source": [
    "salaries_mean = salaries.sum() / salaries.size"
   ]
  },
  {
   "cell_type": "code",
   "execution_count": 370,
   "metadata": {},
   "outputs": [
    {
     "name": "stdout",
     "output_type": "stream",
     "text": [
      "Среднее арифметическое для данной выборки М(Х) =  65.30\n"
     ]
    }
   ],
   "source": [
    "print(f'Среднее арифметическое для данной выборки М(Х) = {salaries_mean: .2f}')"
   ]
  },
  {
   "attachments": {},
   "cell_type": "markdown",
   "metadata": {},
   "source": [
    "Cреднее квадратичное отклонение"
   ]
  },
  {
   "cell_type": "code",
   "execution_count": 371,
   "metadata": {},
   "outputs": [],
   "source": [
    "S=(np.sum((salaries - salaries_mean)**2) / salaries.size)**0.5"
   ]
  },
  {
   "cell_type": "code",
   "execution_count": 372,
   "metadata": {},
   "outputs": [
    {
     "name": "stdout",
     "output_type": "stream",
     "text": [
      "Среднее квадратичное отклонение =  30.8239\n"
     ]
    }
   ],
   "source": [
    "print(f'Среднее квадратичное отклонение = {S: .4f}')"
   ]
  },
  {
   "attachments": {},
   "cell_type": "markdown",
   "metadata": {},
   "source": [
    "Cмещенная и несмещенная дисперсии"
   ]
  },
  {
   "cell_type": "code",
   "execution_count": 373,
   "metadata": {},
   "outputs": [],
   "source": [
    "q=np.sum((salaries - salaries_mean)**2) / salaries.size\n",
    "q1=np.sum((salaries - salaries_mean)**2) / (salaries.size - 1)"
   ]
  },
  {
   "cell_type": "code",
   "execution_count": 374,
   "metadata": {},
   "outputs": [
    {
     "name": "stdout",
     "output_type": "stream",
     "text": [
      "Cмещенная дисперсия =  950.1100\n",
      "Несмещенная дисперсия =  1000.1158\n"
     ]
    }
   ],
   "source": [
    "print(f'Cмещенная дисперсия = {q: .4f}')\n",
    "print(f'Несмещенная дисперсия = {q1: .4f}')"
   ]
  },
  {
   "attachments": {},
   "cell_type": "markdown",
   "metadata": {},
   "source": [
    "---  \n",
    "#### Ответ:  \n",
    "а) $М(Х)= 65.30$;  \n",
    "б) $\\sigma = 30.8239$;  \n",
    "в) $\\sigma^2_{\\text{смещ}}=950.1100$, $\\sigma^2_{\\text{несмещ}}=1000.1158$.  \n",
    "\n",
    "---"
   ]
  },
  {
   "attachments": {},
   "cell_type": "markdown",
   "metadata": {},
   "source": [
    "**2. В первом ящике находится 8 мячей, из которых 5 - белые. Во втором ящике - 12 мячей, из которых 5 белых. Из первого ящика вытаскивают случайным образом два мяча, из второго - 4. Какова вероятность того, что 3 мяча белые?**"
   ]
  },
  {
   "cell_type": "code",
   "execution_count": 375,
   "metadata": {},
   "outputs": [],
   "source": [
    "from math import factorial\n",
    "\n",
    "def combinations(n,k):\n",
    "    return factorial(n)/(factorial(k)*factorial(n-k))"
   ]
  },
  {
   "attachments": {},
   "cell_type": "markdown",
   "metadata": {},
   "source": [
    "Определим вероятность события $A_1$:"
   ]
  },
  {
   "cell_type": "code",
   "execution_count": 376,
   "metadata": {},
   "outputs": [],
   "source": [
    "\n",
    "\n",
    "P1=(combinations(3,2)/combinations(8,2))*(combinations(5,3)*combinations(7,1)/combinations(12,4))\n"
   ]
  },
  {
   "cell_type": "code",
   "execution_count": 377,
   "metadata": {},
   "outputs": [
    {
     "name": "stdout",
     "output_type": "stream",
     "text": [
      "Вероятность события \"из первой корзины не вытащили ни одного белого мяча, из второй вытащили 3 белых мяча\"\n",
      "P(A1) = 0.0152\n"
     ]
    }
   ],
   "source": [
    "print(f'Вероятность события \"из первой корзины не вытащили ни одного белого мяча, из второй вытащили 3 белых мяча\"\\nP(A1) = {P1:.4f}')"
   ]
  },
  {
   "attachments": {},
   "cell_type": "markdown",
   "metadata": {},
   "source": [
    "Определим вероятность события $A_2$:"
   ]
  },
  {
   "cell_type": "code",
   "execution_count": 378,
   "metadata": {},
   "outputs": [],
   "source": [
    "P2=(combinations(5,1)*combinations(3,1)*combinations(5,2)*combinations(7,2))/(combinations(8,2)*combinations(12,4))"
   ]
  },
  {
   "cell_type": "code",
   "execution_count": 379,
   "metadata": {},
   "outputs": [
    {
     "name": "stdout",
     "output_type": "stream",
     "text": [
      "Вероятность события \"из первой корзины вытащили 1 белый мяч, из второй вытащили 2 белых мяча\"\n",
      "P(A2) = 0.2273\n"
     ]
    }
   ],
   "source": [
    "print(f'Вероятность события \"из первой корзины вытащили 1 белый мяч, из второй вытащили 2 белых мяча\"\\nP(A2) = {P2:.4f}'\n",
    "     )"
   ]
  },
  {
   "attachments": {},
   "cell_type": "markdown",
   "metadata": {},
   "source": [
    "Определим вероятность события $A_3$:"
   ]
  },
  {
   "cell_type": "code",
   "execution_count": 380,
   "metadata": {},
   "outputs": [],
   "source": [
    "P3=(combinations(5,2)*combinations(5,1)*combinations(7,3))/(combinations(8,2)*combinations(12,4))"
   ]
  },
  {
   "cell_type": "code",
   "execution_count": 381,
   "metadata": {},
   "outputs": [
    {
     "name": "stdout",
     "output_type": "stream",
     "text": [
      "Вероятность события \"из первой корзины вытащили 2 белых мяча, из второй вытащили 1 белый мяч\"\n",
      "P(A2) = 0.1263\n"
     ]
    }
   ],
   "source": [
    "print(f'Вероятность события \"из первой корзины вытащили 2 белых мяча, из второй вытащили 1 белый мяч\"\\nP(A2) = {P3:.4f}'\n",
    "     )"
   ]
  },
  {
   "attachments": {},
   "cell_type": "markdown",
   "metadata": {},
   "source": [
    "Вычислим $P(A)$"
   ]
  },
  {
   "cell_type": "code",
   "execution_count": 382,
   "metadata": {},
   "outputs": [
    {
     "name": "stdout",
     "output_type": "stream",
     "text": [
      "Вероятность того, что из вытащенных мячей 3 белые Р(А) =  0.3687\n"
     ]
    }
   ],
   "source": [
    "print(f'Вероятность того, что из вытащенных мячей 3 белые Р(А) = {P1+P2+P3: .4f}')"
   ]
  },
  {
   "attachments": {},
   "cell_type": "markdown",
   "metadata": {},
   "source": [
    "---  \n",
    "#### Ответ:  \n",
    "Вероятность того, что 3 мяча белые $P(A)\\approx 36.87\\%$  \n",
    "\n",
    "---"
   ]
  },
  {
   "attachments": {},
   "cell_type": "markdown",
   "metadata": {},
   "source": [
    "**3. На соревновании по биатлону один из трех спортсменов стреляет и попадает в мишень. Вероятность попадания для первого спортсмена равна 0.9, для второго — 0.8, для третьего — 0.6. Найти вероятность того, что выстрел произведен:**  \n",
    "   **a) первым спортсменом;**  \n",
    "   **б) вторым спортсменом;**  \n",
    "   **в) третьим спортсменом.**"
   ]
  },
  {
   "cell_type": "code",
   "execution_count": 383,
   "metadata": {},
   "outputs": [],
   "source": [
    "A = 1/3 * 0.9 + 1/3 * 0.8 + 1/3 * 0.6\n",
    "P1=(1/3 * 0.9) / A\n",
    "P2=(1/3 * 0.8) / A\n",
    "P3=(1/3 * 0.6) / A"
   ]
  },
  {
   "cell_type": "code",
   "execution_count": 384,
   "metadata": {},
   "outputs": [
    {
     "name": "stdout",
     "output_type": "stream",
     "text": [
      "Вероятность того, что выстрел произвёл первый спортсмен: 0.3913;\n",
      "Вероятность того, что выстрел произвёл второй спортсмен: 0.3478;\n",
      "Вероятность того, что выстрел произвёл третий спортсмен: 0.2609.\n"
     ]
    }
   ],
   "source": [
    "print(f'Вероятность того, что выстрел произвёл первый спортсмен: {P1:.4f};\\n'\n",
    "      f'Вероятность того, что выстрел произвёл второй спортсмен: {P2:.4f};\\n'\n",
    "      f'Вероятность того, что выстрел произвёл третий спортсмен: {P3:.4f}.')\n"
   ]
  },
  {
   "attachments": {},
   "cell_type": "markdown",
   "metadata": {},
   "source": [
    "---\n",
    "#### Ответ:  \n",
    "а) Вероятность того, что выстрел произвёл первый спортсмен:  $P_{A}(B_1)\\approx39.13\\%$;  \n",
    "б) Вероятность того, что выстрел произвёл второй спортсмен:  $P_{A}(B_2)\\approx34.78\\%$;  \n",
    "в) Вероятность того, что выстрел произвёл третий спортсмен:  $P_{A}(B_3)\\approx26.09\\%$.    \n",
    "\n",
    "---"
   ]
  },
  {
   "attachments": {},
   "cell_type": "markdown",
   "metadata": {},
   "source": [
    "**4. В университет на факультеты A и B поступило равное количество студентов, а на факультет C студентов поступило столько же, сколько на A и B вместе. Вероятность того, что студент факультета A сдаст первую сессию, равна 0.8. Для студента факультета B эта вероятность равна 0.7, а для студента факультета C - 0.9. Студент сдал первую сессию. Какова вероятность, что он учится:**  \n",
    "   **a) на факультете A;**  \n",
    "   **б) на факультете B;**    \n",
    "   **в) на факультете C?**  "
   ]
  },
  {
   "cell_type": "code",
   "execution_count": 385,
   "metadata": {},
   "outputs": [],
   "source": [
    "A = 1/4 * 0.8 + 1/4 * 0.7 + 1/2 * 0.9\n",
    "P1=(1/4 * 0.8) / A\n",
    "P2=(1/4 * 0.7) / A\n",
    "P3=(1/2 * 0.9) / A"
   ]
  },
  {
   "cell_type": "code",
   "execution_count": 386,
   "metadata": {},
   "outputs": [
    {
     "name": "stdout",
     "output_type": "stream",
     "text": [
      "Вероятность того, что студент учится на факультете А: 0.2424;\n",
      "Вероятность того, что студент учится на факультете B: 0.2121;\n",
      "Вероятность того, что студент учится на факультете C: 0.5455.\n"
     ]
    }
   ],
   "source": [
    "print(f'Вероятность того, что студент учится на факультете А: {P1:.4f};\\n'\n",
    "      f'Вероятность того, что студент учится на факультете B: {P2:.4f};\\n'\n",
    "      f'Вероятность того, что студент учится на факультете C: {P3:.4f}.'\n",
    "      )"
   ]
  },
  {
   "attachments": {},
   "cell_type": "markdown",
   "metadata": {},
   "source": [
    "---  \n",
    "#### Ответ:  \n",
    "Вероятность того, что студент учится на факультете А:  $\\approx24.24\\%$;  \n",
    "Вероятность того, что студент учится на факультете B:  $\\approx21.21\\%$;  \n",
    "Вероятность того, что студент учится на факультете C:  $\\approx54.55\\%$.  \n",
    "\n",
    "---"
   ]
  },
  {
   "attachments": {},
   "cell_type": "markdown",
   "metadata": {},
   "source": [
    "**5. Устройство состоит из трех деталей. Для первой детали вероятность выйти из строя в первый месяц равна 0.1, для второй - 0.2, для третьей - 0.25. Какова вероятность того, что в первый месяц выйдут из строя:**  \n",
    "   **а) все детали;**  \n",
    "   **б) только две детали;**  \n",
    "   **в) хотя бы одна деталь;**  \n",
    "   **г) от одной до двух деталей?**"
   ]
  },
  {
   "cell_type": "code",
   "execution_count": 387,
   "metadata": {},
   "outputs": [],
   "source": [
    "P1=0.1*0.2*0.25\n",
    "P2=0.1*0.2*0.75+0.1*0.25*0.8+0.2*0.25*0.9\n",
    "P3=0.9*0.8*0.75\n",
    "P3_1=1-P3\n",
    "P4=0.1*0.8*0.75+0.2*0.9*0.75+0.25*0.9*0.8"
   ]
  },
  {
   "cell_type": "code",
   "execution_count": 388,
   "metadata": {},
   "outputs": [
    {
     "name": "stdout",
     "output_type": "stream",
     "text": [
      "Вероятность того, что из строя выйдут все детали Р(3) = 0.0050\n",
      "Вероятность того, что из строя выйдут только 2 детали Р(2) = 0.0800\n",
      "Вероятность того, что из строя не выйдет ни одной детали Р(0) = 0.5400\n",
      "Вероятность того, что выйдет из строя хотя бы одна деталь Р(>=1) = 0.4600\n",
      "Вероятность того, что выйдет из строя выйдут от 1 до 2 деталей Р(1,2) = 0.4550\n"
     ]
    }
   ],
   "source": [
    "print(f'Вероятность того, что из строя выйдут все детали Р(3) = {P1:.4f}')\n",
    "print(f'Вероятность того, что из строя выйдут только 2 детали Р(2) = {P2:.4f}')\n",
    "print(f'Вероятность того, что из строя не выйдет ни одной детали Р(0) = {P3:.4f}')\n",
    "print(f'Вероятность того, что выйдет из строя хотя бы одна деталь Р(>=1) = {P3_1:.4f}')\n",
    "print(f'Вероятность того, что выйдет из строя выйдут от 1 до 2 деталей Р(1,2) = {P4+P2:.4f}')"
   ]
  }
 ],
 "metadata": {
  "kernelspec": {
   "display_name": "Python 3",
   "language": "python",
   "name": "python3"
  },
  "language_info": {
   "codemirror_mode": {
    "name": "ipython",
    "version": 3
   },
   "file_extension": ".py",
   "mimetype": "text/x-python",
   "name": "python",
   "nbconvert_exporter": "python",
   "pygments_lexer": "ipython3",
   "version": "3.10.7"
  },
  "orig_nbformat": 4,
  "vscode": {
   "interpreter": {
    "hash": "feabd682d07e1de51ad16ab4c1d1a4968bc1b5ada19ac01ce8b5d3e05f7cf136"
   }
  }
 },
 "nbformat": 4,
 "nbformat_minor": 2
}
